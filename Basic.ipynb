{
 "cells": [
  {
   "cell_type": "code",
   "execution_count": 11,
   "id": "a1864a9b",
   "metadata": {},
   "outputs": [],
   "source": [
    "import pandas as pd\n",
    "import numpy as np\n",
    "import re"
   ]
  },
  {
   "cell_type": "code",
   "execution_count": 12,
   "id": "aff27ede",
   "metadata": {},
   "outputs": [],
   "source": [
    "df=pd.read_csv(r\"C:\\Users\\Win8\\Downloads\\NLP\\IMDB Dataset.csv\")"
   ]
  },
  {
   "cell_type": "code",
   "execution_count": 13,
   "id": "4dfd55aa",
   "metadata": {},
   "outputs": [],
   "source": [
    "df[\"review\"]=df[\"review\"].str.lower()"
   ]
  },
  {
   "cell_type": "markdown",
   "id": "99c12f97",
   "metadata": {},
   "source": [
    "# Tag removal"
   ]
  },
  {
   "cell_type": "code",
   "execution_count": 20,
   "id": "57d761f7",
   "metadata": {},
   "outputs": [],
   "source": [
    "def rempve_html(x):\n",
    "    p=re.compile('<.*?>')\n",
    "    return p.sub(r'',x)"
   ]
  },
  {
   "cell_type": "code",
   "execution_count": 22,
   "id": "3f1a40d8",
   "metadata": {},
   "outputs": [],
   "source": [
    "df[\"review\"]=df[\"review\"].apply(rempve_html)"
   ]
  },
  {
   "cell_type": "markdown",
   "id": "f8151837",
   "metadata": {},
   "source": [
    "# website remove"
   ]
  },
  {
   "cell_type": "code",
   "execution_count": 40,
   "id": "b40c0ea6",
   "metadata": {},
   "outputs": [],
   "source": [
    "def web(x):\n",
    "    p=re.compile(r'https?://\\S+|www\\.\\s+')\n",
    "    return p.sub(r'',x)"
   ]
  },
  {
   "cell_type": "code",
   "execution_count": 41,
   "id": "8d333acc",
   "metadata": {},
   "outputs": [],
   "source": [
    "a=\"Hi my name https://www.bing.com/search?q=kaggle&cvid=06c04dc8d0aa48749e5621f49f8e260f&aqs=edge..69i57j46j0l7.2567j0j4&FORM=ANAB01&PC=U531\""
   ]
  },
  {
   "cell_type": "code",
   "execution_count": 42,
   "id": "a652db36",
   "metadata": {},
   "outputs": [
    {
     "data": {
      "text/plain": [
       "'Hi my name '"
      ]
     },
     "execution_count": 42,
     "metadata": {},
     "output_type": "execute_result"
    }
   ],
   "source": [
    "web(a)"
   ]
  },
  {
   "cell_type": "markdown",
   "id": "4430206b",
   "metadata": {},
   "source": [
    "# remove punctuation"
   ]
  },
  {
   "cell_type": "code",
   "execution_count": 44,
   "id": "bb9e4c76",
   "metadata": {},
   "outputs": [],
   "source": [
    "import string,time\n",
    "a=string.punctuation"
   ]
  },
  {
   "cell_type": "code",
   "execution_count": 45,
   "id": "abff6ddd",
   "metadata": {},
   "outputs": [],
   "source": [
    "def punctuation (x):\n",
    "    for i in a:\n",
    "        x=x.replace(i,'')\n",
    "    return x"
   ]
  },
  {
   "cell_type": "code",
   "execution_count": 47,
   "id": "86b7b8cb",
   "metadata": {},
   "outputs": [],
   "source": [
    "df[\"review\"]=df[\"review\"].apply(punctuation)"
   ]
  },
  {
   "cell_type": "code",
   "execution_count": 48,
   "id": "5d3107f9",
   "metadata": {},
   "outputs": [],
   "source": [
    "def new_punc_tech(x):\n",
    "    return x.translate(str.maketrans('','',a))"
   ]
  },
  {
   "cell_type": "markdown",
   "id": "c69f962e",
   "metadata": {},
   "source": [
    "# Chat Word treatment"
   ]
  },
  {
   "cell_type": "markdown",
   "id": "3c9d14a4",
   "metadata": {},
   "source": [
    "it is use to create a meaning full words from the short form of the words for example frnds== friends,gm==good morning"
   ]
  },
  {
   "cell_type": "code",
   "execution_count": 1,
   "id": "8179886b",
   "metadata": {},
   "outputs": [],
   "source": [
    "#chat_words: it is the dict of words{\"GM:\"Good Morning\"}\n",
    "def chat_conversion(text):\n",
    "    new_test=[]\n",
    "    for i in test.split():\n",
    "        if(i.upper()in chat_words):\n",
    "            new_test.append(chat_words[i.upper()])\n",
    "        else:\n",
    "            new_test.append(i)\n",
    "    return \"\".join(new_test)"
   ]
  },
  {
   "cell_type": "markdown",
   "id": "aee121eb",
   "metadata": {},
   "source": [
    "# spelling check"
   ]
  },
  {
   "cell_type": "code",
   "execution_count": 2,
   "id": "7effcc45",
   "metadata": {},
   "outputs": [],
   "source": [
    "# ther is many librabry which we can use for spelling corection like nltk,spacy& textbloag,pyspace"
   ]
  },
  {
   "cell_type": "code",
   "execution_count": null,
   "id": "8a2d7e97",
   "metadata": {},
   "outputs": [],
   "source": [
    "from textblob import TextBlob\n",
    "x=TextBlob(\"ceeertain, condition ae not wel\")\n",
    "x.correct().string"
   ]
  },
  {
   "cell_type": "markdown",
   "id": "c08c4eb6",
   "metadata": {},
   "source": [
    "    "
   ]
  }
 ],
 "metadata": {
  "kernelspec": {
   "display_name": "Python 3 (ipykernel)",
   "language": "python",
   "name": "python3"
  },
  "language_info": {
   "codemirror_mode": {
    "name": "ipython",
    "version": 3
   },
   "file_extension": ".py",
   "mimetype": "text/x-python",
   "name": "python",
   "nbconvert_exporter": "python",
   "pygments_lexer": "ipython3",
   "version": "3.9.7"
  }
 },
 "nbformat": 4,
 "nbformat_minor": 5
}
